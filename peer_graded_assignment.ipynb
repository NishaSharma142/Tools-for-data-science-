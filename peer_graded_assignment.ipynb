{
 "cells": [
  {
   "cell_type": "markdown",
   "metadata": {},
   "source": [
    "<center>\n",
    "    <img src=\"https://cf-courses-data.s3.us.cloud-object-storage.appdomain.cloud/IBMDeveloperSkillsNetwork-DS0105EN-SkillsNetwork/labs/Module2/images/SN_web_lightmode.png\" width=\"300\" alt=\"cognitiveclass.ai logo\">\n",
    "</center>\n"
   ]
  },
  {
   "cell_type": "markdown",
   "metadata": {},
   "source": [
    "#### Add your code below following the instructions given in the course\n"
   ]
  },
  {
   "cell_type": "markdown",
   "metadata": {},
   "source": [
    "#### Tools for data science"
   ]
  },
  {
   "cell_type": "markdown",
   "metadata": {},
   "source": [
    "### Intoduction to tools for data science\n",
    "Introduction to the Jupyter notebook interface. In this course we have learned about various data science tools available like most common are Jupyter Notebook and R studio for Python and R languages."
   ]
  },
  {
   "cell_type": "markdown",
   "metadata": {},
   "source": [
    "## Data Science Langauage\n",
    "<ol>\n",
    "    <li>Python</li>\n",
    "    <li>R</li>\n",
    "    <li>SQL</li>\n",
    "    <li>Scala</li>\n",
    "     <li>C++</li>\n",
    "     <li>Ruby</li>\n",
    "</ol>"
   ]
  },
  {
   "cell_type": "markdown",
   "metadata": {},
   "source": [
    "## Data Science libraries in python:\n",
    "There are various libraries available in python for data science work. We have a lot built in functions and libraries in the python for machine learning , deep learning , software developement etc\n",
    "<ol>\n",
    "    <li>Numpy </li>\n",
    "    <li>pandas</li>\n",
    "    <li>Sklearn</li>\n",
    "    <li>Matplotlib</li>\n",
    "     <li>Seaborn</li>\n",
    "</ol>"
   ]
  },
  {
   "cell_type": "markdown",
   "metadata": {},
   "source": [
    "## Data Science tools\n",
    "Data science has turned out to be one of the most popular tech fields in the 21st century. This is because almost every industry, including healthcare, travel, automobile, defense, and manufacturing has applications associated with data science. These wide applications and increased demand for maximizing business value have led to the development of various data science tools.\n",
    "<ol>\n",
    "    <li>Data Management Tools:MySQL,PostgreSQL,MongoDB</li>\n",
    "   <li> Data Integration and Transformation Tools:Apache Airflow,Apache Kafka.</li>\n",
    "    <li>GitHub</li>\n",
    "    <li>Jupyter Notebooks and R studio</li>\n",
    "    <li> Git</li>\n",
    "    <li> Tensorflow</li>\n",
    "    <li> Tableau</li>\n",
    "    <li> PowerBI</li>\n",
    "    </ol>"
   ]
  },
  {
   "cell_type": "markdown",
   "metadata": {},
   "source": [
    "## Arithmetic Operations\n",
    "Python Arithmetic Operators are used to perform mathematical operations like addition, subtraction, multiplication, and division.We can easily perform arithmetic operations by using simple arithmetic operations.Arithmetic operations are the basic opeations like +, - , * ,  / , % etc.\n",
    "###### a=5\n",
    "###### b=4\n",
    "###### c=a+b\n",
    "######  we will get output as 9"
   ]
  },
  {
   "cell_type": "code",
   "execution_count": 3,
   "metadata": {
    "tags": []
   },
   "outputs": [
    {
     "data": {
      "text/plain": [
       "9"
      ]
     },
     "execution_count": 3,
     "metadata": {},
     "output_type": "execute_result"
    }
   ],
   "source": [
    "a = 5\n",
    "b = 4\n",
    "c = a + b\n",
    "c"
   ]
  },
  {
   "cell_type": "markdown",
   "metadata": {},
   "source": [
    "### Arithmetic operations:\n",
    "#### Arithmetic operations are the basic opeations like +, - ,*, /,% etc. \n",
    "Python Arithmetic Operators are used to perform mathematical operations like addition, subtraction, multiplication, and division.We can easily perform arithmetic operations by using simple arithmetic operations.Arithmetic operations are the basic opeations like +, - , * , / , % etc. Arithmetic operations examples are :"
   ]
  },
  {
   "cell_type": "code",
   "execution_count": 5,
   "metadata": {
    "tags": []
   },
   "outputs": [
    {
     "data": {
      "text/plain": [
       "(9, 20)"
      ]
     },
     "execution_count": 5,
     "metadata": {},
     "output_type": "execute_result"
    }
   ],
   "source": [
    "# assigning values to variable\n",
    "a = 5\n",
    "b = 4\n",
    "# storing sum of numbers in the c variable \n",
    "c = a + b\n",
    "\n",
    "# storing multiplication in the d \n",
    "d = a * b\n",
    "c, d"
   ]
  },
  {
   "cell_type": "code",
   "execution_count": 16,
   "metadata": {
    "tags": []
   },
   "outputs": [
    {
     "data": {
      "text/plain": [
       "0.45"
      ]
     },
     "execution_count": 16,
     "metadata": {},
     "output_type": "execute_result"
    }
   ],
   "source": [
    "c/d"
   ]
  },
  {
   "cell_type": "code",
   "execution_count": 3,
   "metadata": {
    "tags": []
   },
   "outputs": [
    {
     "data": {
      "text/plain": [
       "9"
      ]
     },
     "execution_count": 3,
     "metadata": {},
     "output_type": "execute_result"
    }
   ],
   "source": [
    "c"
   ]
  },
  {
   "cell_type": "code",
   "execution_count": 4,
   "metadata": {
    "tags": []
   },
   "outputs": [
    {
     "data": {
      "text/plain": [
       "20"
      ]
     },
     "execution_count": 4,
     "metadata": {},
     "output_type": "execute_result"
    }
   ],
   "source": [
    "d"
   ]
  },
  {
   "cell_type": "code",
   "execution_count": 13,
   "metadata": {
    "tags": []
   },
   "outputs": [],
   "source": [
    "#This line of code returns us the hours and minutes provided minutes as input\n",
    "# assigning value to minutes variable\n",
    "minutes=65\n",
    "# this will return the hours value only and will not return remaining minuter\n",
    "#calculating hours\n",
    "hours=minutes//60\n",
    "#calculating minutes\n",
    "minutes=minutes%60"
   ]
  },
  {
   "cell_type": "code",
   "execution_count": 14,
   "metadata": {
    "tags": []
   },
   "outputs": [
    {
     "data": {
      "text/plain": [
       "(1, 5)"
      ]
     },
     "execution_count": 14,
     "metadata": {},
     "output_type": "execute_result"
    }
   ],
   "source": [
    "hours,minutes"
   ]
  },
  {
   "cell_type": "markdown",
   "metadata": {},
   "source": [
    "### Course Objective are :\n",
    "This course teaches us about the popular tools in Data Science and how to use them. You will become familiar with the Data Scientist's tool kit which includes: Libraries & Packages, Data Sets, Machine Learning Models, Kernels, as well as the various Open source, commercial, Big Data and Cloud-based tools.\n",
    "* Introduction to the data science tools\n",
    "* Data management tools\n",
    "* Basic introduction to jupyter notebook interface\n",
    "* Rename,save files ,download files,add markdown cells etc. in jupyter notebook\n",
    "* introduction to Various data science libraries\n",
    "* introduction to various data science languages etc.\n"
   ]
  },
  {
   "cell_type": "markdown",
   "metadata": {},
   "source": [
    "### Author Details\n",
    " Nisha"
   ]
  },
  {
   "cell_type": "code",
   "execution_count": null,
   "metadata": {},
   "outputs": [],
   "source": []
  }
 ],
 "metadata": {
  "kernelspec": {
   "display_name": "Python",
   "language": "python",
   "name": "conda-env-python-py"
  },
  "language_info": {
   "codemirror_mode": {
    "name": "ipython",
    "version": 3
   },
   "file_extension": ".py",
   "mimetype": "text/x-python",
   "name": "python",
   "nbconvert_exporter": "python",
   "pygments_lexer": "ipython3",
   "version": "3.7.12"
  }
 },
 "nbformat": 4,
 "nbformat_minor": 4
}
